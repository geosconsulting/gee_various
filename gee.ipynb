{
  "nbformat": 4,
  "nbformat_minor": 0,
  "metadata": {
    "colab": {
      "name": "gee.ipynb",
      "version": "0.3.2",
      "provenance": [],
      "collapsed_sections": [],
      "include_colab_link": true
    },
    "kernelspec": {
      "name": "python3",
      "display_name": "Python 3"
    }
  },
  "cells": [
    {
      "cell_type": "markdown",
      "metadata": {
        "id": "view-in-github",
        "colab_type": "text"
      },
      "source": [
        "<a href=\"https://colab.research.google.com/github/geosconsulting/gee_various/blob/master/gee.ipynb\" target=\"_parent\"><img src=\"https://colab.research.google.com/assets/colab-badge.svg\" alt=\"Open In Colab\"/></a>"
      ]
    },
    {
      "cell_type": "code",
      "metadata": {
        "id": "KKayaALBk7hR",
        "colab_type": "code",
        "colab": {}
      },
      "source": [
        "# !pip install earthengine-api\n",
        "# !earthengine authenticate\n",
        "# !pip install geopandas\n"
      ],
      "execution_count": 0,
      "outputs": []
    },
    {
      "cell_type": "code",
      "metadata": {
        "id": "-gOKDczIlcWX",
        "colab_type": "code",
        "colab": {}
      },
      "source": [
        "import matplotlib.pyplot as plt\n",
        "import pandas as pd\n",
        "import geopandas as gpd\n",
        "import ee"
      ],
      "execution_count": 0,
      "outputs": []
    },
    {
      "cell_type": "code",
      "metadata": {
        "id": "DAK5Hz7ol5y4",
        "colab_type": "code",
        "outputId": "5d67c4c1-9f18-4933-d008-0d1ce151e27b",
        "colab": {
          "base_uri": "https://localhost:8080/",
          "height": 35
        }
      },
      "source": [
        "try:\n",
        "  ee.Initialize()\n",
        "  print('The Earth Engine package initialized successfully!')\n",
        "except ee.EEException as e:\n",
        "  print('The Earth Engine package failed to initialize!')\n",
        "except:\n",
        "    print(\"Unexpected error:\", sys.exc_info()[0])\n",
        "    raise"
      ],
      "execution_count": 0,
      "outputs": [
        {
          "output_type": "stream",
          "text": [
            "The Earth Engine package initialized successfully!\n"
          ],
          "name": "stdout"
        }
      ]
    },
    {
      "cell_type": "code",
      "metadata": {
        "id": "MCY9mLHzl8gI",
        "colab_type": "code",
        "outputId": "67f1f772-882f-4208-df42-1222025f13f8",
        "colab": {
          "base_uri": "https://localhost:8080/",
          "height": 192
        }
      },
      "source": [
        "import ee\n",
        "from IPython.display import Image\n",
        "\n",
        "# Initialize the Earth Engine module.\n",
        "ee.Initialize()\n",
        "\n",
        "strm = ee.Image('CGIAR/SRTM90_V4')\n",
        "\n",
        "# Display a thumbnail of a sample image asset.\n",
        "Image(url=strm.getThumbUrl({'min': 0, 'max': 3000}))"
      ],
      "execution_count": 30,
      "outputs": [
        {
          "output_type": "execute_result",
          "data": {
            "text/html": [
              "<img src=\"https://earthengine.googleapis.com/api/thumb?thumbid=d08af4ea485456f2ca6ba058e1190e1b&token=cf0cbd96455abdc2782e0dca71a984b0\"/>"
            ],
            "text/plain": [
              "<IPython.core.display.Image object>"
            ]
          },
          "metadata": {
            "tags": []
          },
          "execution_count": 30
        }
      ]
    },
    {
      "cell_type": "code",
      "metadata": {
        "id": "AyMODTOjmVdo",
        "colab_type": "code",
        "outputId": "c7c168af-83ab-4235-8078-c6391cb667db",
        "colab": {
          "base_uri": "https://localhost:8080/",
          "height": 35
        }
      },
      "source": [
        "%%bash \n",
        "cat ~/.config/earthengine/credentials"
      ],
      "execution_count": 0,
      "outputs": [
        {
          "output_type": "stream",
          "text": [
            "{\"refresh_token\": \"1/wY8AiFFCuVfKSf2dhcGFXw2VKxQ_I77OOTaale-J3jwgCHdWqn6DM7P4FmL1Xnli\"}"
          ],
          "name": "stdout"
        }
      ]
    },
    {
      "cell_type": "code",
      "metadata": {
        "id": "crkuLPQxnwqX",
        "colab_type": "code",
        "outputId": "dd618141-9e92-4360-d42f-fcf2112adebf",
        "colab": {
          "base_uri": "https://localhost:8080/",
          "height": 124
        }
      },
      "source": [
        "from google.colab import drive\n",
        "drive.mount('/content/gdrive')"
      ],
      "execution_count": 0,
      "outputs": [
        {
          "output_type": "stream",
          "text": [
            "Go to this URL in a browser: https://accounts.google.com/o/oauth2/auth?client_id=947318989803-6bn6qk8qdgf4n4g3pfee6491hc0brc4i.apps.googleusercontent.com&redirect_uri=urn%3Aietf%3Awg%3Aoauth%3A2.0%3Aoob&scope=email%20https%3A%2F%2Fwww.googleapis.com%2Fauth%2Fdocs.test%20https%3A%2F%2Fwww.googleapis.com%2Fauth%2Fdrive%20https%3A%2F%2Fwww.googleapis.com%2Fauth%2Fdrive.photos.readonly%20https%3A%2F%2Fwww.googleapis.com%2Fauth%2Fpeopleapi.readonly&response_type=code\n",
            "\n",
            "Enter your authorization code:\n",
            "··········\n",
            "Mounted at /content/gdrive\n"
          ],
          "name": "stdout"
        }
      ]
    },
    {
      "cell_type": "code",
      "metadata": {
        "id": "ieVQWE8DrazB",
        "colab_type": "code",
        "outputId": "201099f5-5bd3-4068-e403-8eaec69099c1",
        "colab": {
          "base_uri": "https://localhost:8080/",
          "height": 35
        }
      },
      "source": [
        "!ls \"/content/gdrive/My Drive/\""
      ],
      "execution_count": 29,
      "outputs": [
        {
          "output_type": "stream",
          "text": [
            "'Colab Notebooks'  'Interactive RLCMS Overview.gdoc'\n"
          ],
          "name": "stdout"
        }
      ]
    },
    {
      "cell_type": "code",
      "metadata": {
        "id": "3JKFHmp3tk0J",
        "colab_type": "code",
        "colab": {
          "base_uri": "https://localhost:8080/",
          "height": 35
        },
        "outputId": "399c6733-320f-47b8-df74-b01b89203f50"
      },
      "source": [
        "slope = ee.Terrain.slope(strm)\n",
        "\n",
        "# Display a thumbnail of a sample image asset.\n",
        "Image(url=slope.getThumbUrl({'min': 0, 'max': 60}))"
      ],
      "execution_count": 32,
      "outputs": [
        {
          "output_type": "execute_result",
          "data": {
            "text/html": [
              "<img src=\"https://earthengine.googleapis.com/api/thumb?thumbid=7fe0748b46a09c3ee8d65a8adcbfc2af&token=64f998fc907da27455d3c7c1fd687117\"/>"
            ],
            "text/plain": [
              "<IPython.core.display.Image object>"
            ]
          },
          "metadata": {
            "tags": []
          },
          "execution_count": 32
        }
      ]
    },
    {
      "cell_type": "code",
      "metadata": {
        "id": "kTt6njivFALz",
        "colab_type": "code",
        "colab": {}
      },
      "source": [
        ""
      ],
      "execution_count": 0,
      "outputs": []
    }
  ]
}